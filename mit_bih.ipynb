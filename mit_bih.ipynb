{
 "cells": [
  {
   "cell_type": "code",
   "execution_count": 1,
   "metadata": {},
   "outputs": [
    {
     "name": "stdout",
     "output_type": "stream",
     "text": [
      "Note: you may need to restart the kernel to use updated packages.\n"
     ]
    }
   ],
   "source": [
    "%pip install git+https://gitlab.com/moskalenkoviktor/ml_validation -q"
   ]
  },
  {
   "cell_type": "code",
   "execution_count": 2,
   "metadata": {},
   "outputs": [],
   "source": [
    "import locale\n",
    "\n",
    "import numpy as np\n",
    "\n",
    "from ml_validation import database\n",
    "from ml_validation.experiment import mit_bih"
   ]
  },
  {
   "cell_type": "code",
   "execution_count": 3,
   "metadata": {},
   "outputs": [],
   "source": [
    "locale.setlocale(locale.LC_ALL, \"\")\n",
    "path_dataset = \"datasets\""
   ]
  },
  {
   "cell_type": "code",
   "execution_count": 4,
   "metadata": {},
   "outputs": [
    {
     "name": "stdout",
     "output_type": "stream",
     "text": [
      "Archive already exists: datasets/mit_bih_af.zip\n"
     ]
    }
   ],
   "source": [
    "# Скачиваем базу MIT-BIH Atrial Fibrillation\n",
    "database.download(database.Type.MIT_BIH_AF, path_dataset)"
   ]
  },
  {
   "cell_type": "code",
   "execution_count": 5,
   "metadata": {},
   "outputs": [],
   "source": [
    "# Начинаем эксперимент\n",
    "experiment = mit_bih.start_experiment(name=\"Random\", authors=\"Moskalenko Viktor\", path_dir=path_dataset)"
   ]
  },
  {
   "cell_type": "code",
   "execution_count": 6,
   "metadata": {},
   "outputs": [],
   "source": [
    "class MyAlgorithm:\n",
    "    # Алгоритм диагностики\n",
    "\n",
    "    def __init__(self, rs: np.random.RandomState) -> None:\n",
    "        self._rs = rs\n",
    "\n",
    "    def __call__(self, dataset: mit_bih.TestDataset) -> list[mit_bih.YType]:\n",
    "        return [self._rs.rand(len(indexes)) > 0.5 for _, indexes in dataset]"
   ]
  },
  {
   "cell_type": "code",
   "execution_count": 7,
   "metadata": {},
   "outputs": [],
   "source": [
    "class MyTrainer:\n",
    "    # Алгоритм обучения\n",
    "\n",
    "    def __init__(self) -> None:\n",
    "        self._fold = 0\n",
    "        self._rs = np.random.RandomState(42)\n",
    "\n",
    "    def __call__(self, dataset: mit_bih.TrainDataset) -> mit_bih.Algorithm:\n",
    "        self._fold += 1\n",
    "        print(f\"Разбиение №{self._fold}. Число обучающих примеров: {len(dataset)}\")\n",
    "        return MyAlgorithm(self._rs)"
   ]
  },
  {
   "cell_type": "code",
   "execution_count": 8,
   "metadata": {},
   "outputs": [
    {
     "name": "stdout",
     "output_type": "stream",
     "text": [
      "Разбиение №1. Число обучающих примеров: 21\n",
      "Разбиение №2. Число обучающих примеров: 21\n",
      "Разбиение №3. Число обучающих примеров: 21\n",
      "Разбиение №4. Число обучающих примеров: 20\n",
      "Разбиение №5. Число обучающих примеров: 20\n",
      "Разбиение №6. Число обучающих примеров: 20\n",
      "Разбиение №7. Число обучающих примеров: 21\n",
      "Разбиение №8. Число обучающих примеров: 21\n",
      "Разбиение №9. Число обучающих примеров: 21\n",
      "Разбиение №10. Число обучающих примеров: 21\n"
     ]
    }
   ],
   "source": [
    "# Валидируем с помощью 10-кратной перекрестной проверки\n",
    "report = experiment.validate(MyTrainer())"
   ]
  },
  {
   "cell_type": "code",
   "execution_count": 9,
   "metadata": {},
   "outputs": [
    {
     "name": "stdout",
     "output_type": "stream",
     "text": [
      "\u001b[1mВерсия\u001b[0m: 0.0.12\n",
      "\u001b[1mНачало\u001b[0m: Пн 17 июн 2024 19:15:26 MSK\n",
      "\u001b[1mКонец\u001b[0m: Пн 17 июн 2024 19:15:32 MSK\n",
      "\u001b[1mНазвание\u001b[0m: Random\n",
      "\u001b[1mОписание\u001b[0m: \n",
      "\u001b[1mСсылка\u001b[0m: \n",
      "\u001b[1mАвтор\u001b[0m: Moskalenko Viktor\n",
      "\n",
      "\u001b[1mМетрики\u001b[0m:\n",
      "              NORM  NOT_NORM  accuracy  macro avg  weighted avg\n",
      "precision 0.538625  0.460895  0.499736    0.49976      0.502781\n",
      "recall    0.499472  0.500045  0.499736   0.499759      0.499736\n",
      "f1-score   0.51831  0.479673  0.499736   0.498991      0.500493\n",
      "support   608142.0  520419.0  0.499736  1128561.0     1128561.0\n",
      "\n",
      "\u001b[1mМатрицы рассогласования\u001b[0m:\n",
      "\n",
      "+---------------+---------------+\n",
      "| NORM          | NOT_NORM      |\n",
      "+===============+===============+\n",
      "| 260233 260186 | 303750 304392 |\n",
      "| 304392 303750 | 260186 260233 |\n",
      "+---------------+---------------+\n",
      "\n"
     ]
    }
   ],
   "source": [
    "print(report)"
   ]
  },
  {
   "cell_type": "code",
   "execution_count": null,
   "metadata": {},
   "outputs": [],
   "source": []
  }
 ],
 "metadata": {
  "kernelspec": {
   "display_name": ".venv",
   "language": "python",
   "name": "python3"
  },
  "language_info": {
   "codemirror_mode": {
    "name": "ipython",
    "version": 3
   },
   "file_extension": ".py",
   "mimetype": "text/x-python",
   "name": "python",
   "nbconvert_exporter": "python",
   "pygments_lexer": "ipython3",
   "version": "3.10.12"
  }
 },
 "nbformat": 4,
 "nbformat_minor": 2
}
