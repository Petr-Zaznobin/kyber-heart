{
 "cells": [
  {
   "cell_type": "code",
   "execution_count": 1,
   "metadata": {},
   "outputs": [],
   "source": [
    "import locale\n",
    "\n",
    "import numpy as np\n",
    "import numpy.typing as npt\n",
    "\n",
    "from ml_validation import database\n",
    "from ml_validation.experiment import three_bases"
   ]
  },
  {
   "cell_type": "code",
   "execution_count": 2,
   "metadata": {},
   "outputs": [],
   "source": [
    "locale.setlocale(locale.LC_ALL, \"\")\n",
    "path_dataset = \"datasets\""
   ]
  },
  {
   "cell_type": "code",
   "execution_count": 3,
   "metadata": {},
   "outputs": [
    {
     "name": "stdout",
     "output_type": "stream",
     "text": [
      "Archive already exists: datasets/three_bases.zip\n",
      "Archive already exists: datasets/three_bases_bad_records.zip\n"
     ]
    }
   ],
   "source": [
    "database.download(database.Type.THREE_BASES, path_dataset)"
   ]
  },
  {
   "cell_type": "code",
   "execution_count": 4,
   "metadata": {},
   "outputs": [],
   "source": [
    "# Начинаем эксперимент\n",
    "experiment = three_bases.start_experiment(\n",
    "    name=\"DummyUniform\",\n",
    "    description=\"Тестовая загрузка данных базы 'Three bases'\",\n",
    "    authors=\"Moskalenko Viktor\",\n",
    "    path_dir=path_dataset,\n",
    ")"
   ]
  },
  {
   "cell_type": "code",
   "execution_count": 5,
   "metadata": {},
   "outputs": [
    {
     "data": {
      "text/plain": [
       "((54953, 12, 5000), (54953, 5))"
      ]
     },
     "execution_count": 5,
     "metadata": {},
     "output_type": "execute_result"
    }
   ],
   "source": [
    "X, Y = experiment.get_data()\n",
    "X.shape, Y.shape"
   ]
  },
  {
   "cell_type": "code",
   "execution_count": 6,
   "metadata": {},
   "outputs": [
    {
     "data": {
      "text/html": [
       "<div>\n",
       "<style scoped>\n",
       "    .dataframe tbody tr th:only-of-type {\n",
       "        vertical-align: middle;\n",
       "    }\n",
       "\n",
       "    .dataframe tbody tr th {\n",
       "        vertical-align: top;\n",
       "    }\n",
       "\n",
       "    .dataframe thead th {\n",
       "        text-align: right;\n",
       "    }\n",
       "</style>\n",
       "<table border=\"1\" class=\"dataframe\">\n",
       "  <thead>\n",
       "    <tr style=\"text-align: right;\">\n",
       "      <th></th>\n",
       "      <th>Age</th>\n",
       "      <th>Gender</th>\n",
       "      <th>Patient ID in source database</th>\n",
       "      <th>Source database name</th>\n",
       "      <th>Index in source database</th>\n",
       "    </tr>\n",
       "    <tr>\n",
       "      <th>Record index</th>\n",
       "      <th></th>\n",
       "      <th></th>\n",
       "      <th></th>\n",
       "      <th></th>\n",
       "      <th></th>\n",
       "    </tr>\n",
       "  </thead>\n",
       "  <tbody>\n",
       "    <tr>\n",
       "      <th>0</th>\n",
       "      <td>56.0</td>\n",
       "      <td>0</td>\n",
       "      <td>15709.0</td>\n",
       "      <td>ptb_xl</td>\n",
       "      <td>1</td>\n",
       "    </tr>\n",
       "    <tr>\n",
       "      <th>1</th>\n",
       "      <td>19.0</td>\n",
       "      <td>1</td>\n",
       "      <td>13243.0</td>\n",
       "      <td>ptb_xl</td>\n",
       "      <td>2</td>\n",
       "    </tr>\n",
       "    <tr>\n",
       "      <th>3</th>\n",
       "      <td>24.0</td>\n",
       "      <td>1</td>\n",
       "      <td>17014.0</td>\n",
       "      <td>ptb_xl</td>\n",
       "      <td>4</td>\n",
       "    </tr>\n",
       "    <tr>\n",
       "      <th>4</th>\n",
       "      <td>19.0</td>\n",
       "      <td>0</td>\n",
       "      <td>17448.0</td>\n",
       "      <td>ptb_xl</td>\n",
       "      <td>5</td>\n",
       "    </tr>\n",
       "    <tr>\n",
       "      <th>5</th>\n",
       "      <td>18.0</td>\n",
       "      <td>0</td>\n",
       "      <td>19005.0</td>\n",
       "      <td>ptb_xl</td>\n",
       "      <td>6</td>\n",
       "    </tr>\n",
       "  </tbody>\n",
       "</table>\n",
       "</div>"
      ],
      "text/plain": [
       "               Age  Gender Patient ID in source database Source database name  \\\n",
       "Record index                                                                    \n",
       "0             56.0       0                       15709.0               ptb_xl   \n",
       "1             19.0       1                       13243.0               ptb_xl   \n",
       "3             24.0       1                       17014.0               ptb_xl   \n",
       "4             19.0       0                       17448.0               ptb_xl   \n",
       "5             18.0       0                       19005.0               ptb_xl   \n",
       "\n",
       "             Index in source database  \n",
       "Record index                           \n",
       "0                                   1  \n",
       "1                                   2  \n",
       "3                                   4  \n",
       "4                                   5  \n",
       "5                                   6  "
      ]
     },
     "execution_count": 6,
     "metadata": {},
     "output_type": "execute_result"
    }
   ],
   "source": [
    "meta = experiment.get_meta()\n",
    "meta.head()"
   ]
  },
  {
   "cell_type": "code",
   "execution_count": 7,
   "metadata": {},
   "outputs": [],
   "source": [
    "class MyAlgorithm:\n",
    "    # Реализуем алгоритм диагностики\n",
    "\n",
    "    def __init__(self) -> None:\n",
    "        self._rs = np.random.RandomState(42)\n",
    "\n",
    "    def __call__(self, X_test: npt.NDArray[np.float32]) -> npt.NDArray[np.bool_]:\n",
    "        return self._rs.rand(len(X_test), Y.shape[1]) > 0.5"
   ]
  },
  {
   "cell_type": "code",
   "execution_count": 8,
   "metadata": {},
   "outputs": [],
   "source": [
    "report = experiment.validate(MyAlgorithm(), batch_size=512)"
   ]
  },
  {
   "cell_type": "code",
   "execution_count": 9,
   "metadata": {},
   "outputs": [
    {
     "name": "stdout",
     "output_type": "stream",
     "text": [
      "\u001b[1mВерсия\u001b[0m: 0.1.2\n",
      "\u001b[1mНачало\u001b[0m: Чт 17 окт 2024 20:57:38 MSK\n",
      "\u001b[1mКонец\u001b[0m: Чт 17 окт 2024 20:58:01 MSK\n",
      "\u001b[1mНазвание\u001b[0m: DummyUniform\n",
      "\u001b[1mОписание\u001b[0m: Тестовая загрузка данных базы 'Three bases'\n",
      "\u001b[1mСсылка\u001b[0m: \n",
      "\u001b[1mАвтор\u001b[0m: Moskalenko Viktor\n",
      "\n",
      "\u001b[1mМетрики\u001b[0m:\n",
      "                 1        2        3        4        7  micro avg  macro avg  \\\n",
      "precision 0.384034 0.105896 0.240536 0.047163 0.050793   0.165739   0.165684   \n",
      "recall    0.498961 0.486851 0.507527 0.487256 0.482711   0.498118   0.492661   \n",
      "f1-score  0.434018 0.173955 0.326385 0.086002 0.091915   0.248721   0.222455   \n",
      "support     5293.0   1483.0   3255.0    667.0    723.0    11421.0    11421.0   \n",
      "\n",
      "           weighted avg  samples avg  \n",
      "precision      0.266252      0.16161  \n",
      "recall         0.498118     0.400296  \n",
      "f1-score       0.327593     0.220039  \n",
      "support         11421.0      11421.0  \n",
      "\n",
      "\u001b[1mМатрицы рассогласования\u001b[0m:\n",
      "\n",
      "+-----------+-----------+-----------+-----------+-----------+\n",
      "| 1         | 2         | 3         | 4         | 7         |\n",
      "+===========+===========+===========+===========+===========+\n",
      "| 4200 4236 | 6150 6096 | 5258 5216 | 6496 6566 | 6484 6522 |\n",
      "| 2652 2641 |  761  722 | 1603 1652 |  342  325 |  374  349 |\n",
      "+-----------+-----------+-----------+-----------+-----------+\n",
      "\n"
     ]
    }
   ],
   "source": [
    "print(report)"
   ]
  },
  {
   "cell_type": "code",
   "execution_count": null,
   "metadata": {},
   "outputs": [],
   "source": []
  }
 ],
 "metadata": {
  "kernelspec": {
   "display_name": ".venv",
   "language": "python",
   "name": "python3"
  },
  "language_info": {
   "codemirror_mode": {
    "name": "ipython",
    "version": 3
   },
   "file_extension": ".py",
   "mimetype": "text/x-python",
   "name": "python",
   "nbconvert_exporter": "python",
   "pygments_lexer": "ipython3",
   "version": "3.10.12"
  }
 },
 "nbformat": 4,
 "nbformat_minor": 2
}
